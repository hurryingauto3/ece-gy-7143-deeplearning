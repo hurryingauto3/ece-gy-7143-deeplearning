{
  "cells": [
    {
      "cell_type": "markdown",
      "metadata": {
        "id": "0iiiiTC0XNF7"
      },
      "source": [
        "# Analyzing movie reviews using transformers\n",
        "\n",
        "This problem asks you to train a sentiment analysis model using the BERT (Bidirectional Encoder Representations from Transformers) model, introduced [here](https://arxiv.org/abs/1810.04805). Specifically, we will parse movie reviews and classify their sentiment (according to whether they are positive or negative.)\n",
        "\n",
        "We will use the [Huggingface transformers library](https://github.com/huggingface/transformers) to load a pre-trained BERT model to compute text embeddings, and append this with an RNN model to perform sentiment classification."
      ]
    },
    {
      "cell_type": "markdown",
      "metadata": {
        "id": "7agOLdvIXNF8"
      },
      "source": [
        "## Data preparation\n",
        "\n",
        "Before delving into the model training, let's first do some basic data processing. The first challenge in NLP is to encode text into vector-style representations. This is done by a process called *tokenization*."
      ]
    },
    {
      "cell_type": "code",
      "execution_count": 12,
      "metadata": {
        "execution": {
          "iopub.execute_input": "2025-04-05T23:42:20.253081Z",
          "iopub.status.busy": "2025-04-05T23:42:20.252702Z",
          "iopub.status.idle": "2025-04-05T23:42:20.261048Z",
          "shell.execute_reply": "2025-04-05T23:42:20.260263Z",
          "shell.execute_reply.started": "2025-04-05T23:42:20.253050Z"
        },
        "id": "b0tRhbLFXNF8",
        "trusted": true
      },
      "outputs": [],
      "source": [
        "import torch\n",
        "import random\n",
        "import numpy as np\n",
        "\n",
        "SEED = 1234\n",
        "\n",
        "random.seed(SEED)\n",
        "np.random.seed(SEED)\n",
        "torch.manual_seed(SEED)\n",
        "torch.backends.cudnn.deterministic = True"
      ]
    },
    {
      "cell_type": "markdown",
      "metadata": {
        "id": "d-c9-tAEXNF9"
      },
      "source": [
        "Let us load the transformers library first."
      ]
    },
    {
      "cell_type": "code",
      "execution_count": 2,
      "metadata": {
        "colab": {
          "base_uri": "https://localhost:8080/"
        },
        "execution": {
          "iopub.execute_input": "2025-04-05T23:19:42.524802Z",
          "iopub.status.busy": "2025-04-05T23:19:42.524403Z",
          "iopub.status.idle": "2025-04-05T23:19:47.067073Z",
          "shell.execute_reply": "2025-04-05T23:19:47.066077Z",
          "shell.execute_reply.started": "2025-04-05T23:19:42.524779Z"
        },
        "id": "iwd4yeyAXg2W",
        "outputId": "23df0172-375c-49d4-c477-203411b1086c",
        "trusted": true
      },
      "outputs": [
        {
          "name": "stdout",
          "output_type": "stream",
          "text": [
            "Requirement already satisfied: transformers in /usr/local/lib/python3.11/dist-packages (4.50.3)\n",
            "Requirement already satisfied: filelock in /usr/local/lib/python3.11/dist-packages (from transformers) (3.18.0)\n",
            "Requirement already satisfied: huggingface-hub<1.0,>=0.26.0 in /usr/local/lib/python3.11/dist-packages (from transformers) (0.30.1)\n",
            "Requirement already satisfied: numpy>=1.17 in /usr/local/lib/python3.11/dist-packages (from transformers) (2.0.2)\n",
            "Requirement already satisfied: packaging>=20.0 in /usr/local/lib/python3.11/dist-packages (from transformers) (24.2)\n",
            "Requirement already satisfied: pyyaml>=5.1 in /usr/local/lib/python3.11/dist-packages (from transformers) (6.0.2)\n",
            "Requirement already satisfied: regex!=2019.12.17 in /usr/local/lib/python3.11/dist-packages (from transformers) (2024.11.6)\n",
            "Requirement already satisfied: requests in /usr/local/lib/python3.11/dist-packages (from transformers) (2.32.3)\n",
            "Requirement already satisfied: tokenizers<0.22,>=0.21 in /usr/local/lib/python3.11/dist-packages (from transformers) (0.21.1)\n",
            "Requirement already satisfied: safetensors>=0.4.3 in /usr/local/lib/python3.11/dist-packages (from transformers) (0.5.3)\n",
            "Requirement already satisfied: tqdm>=4.27 in /usr/local/lib/python3.11/dist-packages (from transformers) (4.67.1)\n",
            "Requirement already satisfied: fsspec>=2023.5.0 in /usr/local/lib/python3.11/dist-packages (from huggingface-hub<1.0,>=0.26.0->transformers) (2025.3.2)\n",
            "Requirement already satisfied: typing-extensions>=3.7.4.3 in /usr/local/lib/python3.11/dist-packages (from huggingface-hub<1.0,>=0.26.0->transformers) (4.13.0)\n",
            "Requirement already satisfied: charset-normalizer<4,>=2 in /usr/local/lib/python3.11/dist-packages (from requests->transformers) (3.4.1)\n",
            "Requirement already satisfied: idna<4,>=2.5 in /usr/local/lib/python3.11/dist-packages (from requests->transformers) (3.10)\n",
            "Requirement already satisfied: urllib3<3,>=1.21.1 in /usr/local/lib/python3.11/dist-packages (from requests->transformers) (2.3.0)\n",
            "Requirement already satisfied: certifi>=2017.4.17 in /usr/local/lib/python3.11/dist-packages (from requests->transformers) (2025.1.31)\n"
          ]
        }
      ],
      "source": [
        "!pip install transformers"
      ]
    },
    {
      "cell_type": "markdown",
      "metadata": {
        "id": "7WXwGDzg-V9K"
      },
      "source": [
        "Each transformer model is associated with a particular approach of tokenizing the input text.  We will use the `bert-base-uncased` model below, so let's examine its corresponding tokenizer.\n",
        "\n"
      ]
    },
    {
      "cell_type": "code",
      "execution_count": 13,
      "metadata": {
        "execution": {
          "iopub.execute_input": "2025-04-05T23:19:47.068652Z",
          "iopub.status.busy": "2025-04-05T23:19:47.068421Z",
          "iopub.status.idle": "2025-04-05T23:19:54.086780Z",
          "shell.execute_reply": "2025-04-05T23:19:54.085998Z",
          "shell.execute_reply.started": "2025-04-05T23:19:47.068633Z"
        },
        "id": "CzpSwDm2XNF9",
        "trusted": true
      },
      "outputs": [],
      "source": [
        "from transformers import BertTokenizer\n",
        "\n",
        "tokenizer = BertTokenizer.from_pretrained('bert-base-uncased')"
      ]
    },
    {
      "cell_type": "markdown",
      "metadata": {
        "id": "UoMwhigMXNF9"
      },
      "source": [
        "The `tokenizer` has a `vocab` attribute which contains the actual vocabulary we will be using. First, let us discover how many tokens are in this language model by checking its length."
      ]
    },
    {
      "cell_type": "code",
      "execution_count": 14,
      "metadata": {
        "colab": {
          "base_uri": "https://localhost:8080/"
        },
        "execution": {
          "iopub.execute_input": "2025-04-05T23:19:54.087761Z",
          "iopub.status.busy": "2025-04-05T23:19:54.087475Z",
          "iopub.status.idle": "2025-04-05T23:19:54.092240Z",
          "shell.execute_reply": "2025-04-05T23:19:54.091021Z",
          "shell.execute_reply.started": "2025-04-05T23:19:54.087744Z"
        },
        "id": "D6iwFKmgXNF-",
        "outputId": "5e4d942e-1f7e-44d2-ce46-e67b9d601794",
        "trusted": true
      },
      "outputs": [
        {
          "name": "stdout",
          "output_type": "stream",
          "text": [
            "30522\n"
          ]
        }
      ],
      "source": [
        "# Q1a: Print the size of the vocabulary of the above tokenizer.\n",
        "print(len(tokenizer))"
      ]
    },
    {
      "cell_type": "markdown",
      "metadata": {
        "id": "cpjHi3GEXNF_"
      },
      "source": [
        "Using the tokenizer is as simple as calling `tokenizer.tokenize` on a string. This will tokenize and lower case the data in a way that is consistent with the pre-trained transformer model."
      ]
    },
    {
      "cell_type": "code",
      "execution_count": 15,
      "metadata": {
        "colab": {
          "base_uri": "https://localhost:8080/"
        },
        "execution": {
          "iopub.execute_input": "2025-04-05T23:20:02.968294Z",
          "iopub.status.busy": "2025-04-05T23:20:02.967874Z",
          "iopub.status.idle": "2025-04-05T23:20:02.973336Z",
          "shell.execute_reply": "2025-04-05T23:20:02.972243Z",
          "shell.execute_reply.started": "2025-04-05T23:20:02.968260Z"
        },
        "id": "jSfW82kYXNF_",
        "outputId": "32bea8d7-651e-458b-de01-2ccd302af3f8",
        "trusted": true
      },
      "outputs": [
        {
          "name": "stdout",
          "output_type": "stream",
          "text": [
            "['hello', 'world', 'how', 'are', 'you', '?']\n"
          ]
        }
      ],
      "source": [
        "tokens = tokenizer.tokenize('Hello WORLD how ARE yoU?')\n",
        "\n",
        "print(tokens)"
      ]
    },
    {
      "cell_type": "markdown",
      "metadata": {
        "id": "wS1LH_izXNGA"
      },
      "source": [
        "We can numericalize tokens using our vocabulary using `tokenizer.convert_tokens_to_ids`."
      ]
    },
    {
      "cell_type": "code",
      "execution_count": 16,
      "metadata": {
        "colab": {
          "base_uri": "https://localhost:8080/"
        },
        "execution": {
          "iopub.execute_input": "2025-04-05T23:20:19.718790Z",
          "iopub.status.busy": "2025-04-05T23:20:19.718466Z",
          "iopub.status.idle": "2025-04-05T23:20:19.724571Z",
          "shell.execute_reply": "2025-04-05T23:20:19.723153Z",
          "shell.execute_reply.started": "2025-04-05T23:20:19.718764Z"
        },
        "id": "ujCny94UXNGA",
        "outputId": "ce458e7c-5f62-4092-d596-5d15f08af015",
        "trusted": true
      },
      "outputs": [
        {
          "name": "stdout",
          "output_type": "stream",
          "text": [
            "[7592, 2088, 2129, 2024, 2017, 1029]\n"
          ]
        }
      ],
      "source": [
        "indexes = tokenizer.convert_tokens_to_ids(tokens)\n",
        "\n",
        "print(indexes)"
      ]
    },
    {
      "cell_type": "markdown",
      "metadata": {
        "id": "qlqKy-QDXNGB"
      },
      "source": [
        "The transformer was also trained with special tokens to mark the beginning and end of the sentence, as well as a standard padding and unknown token.\n",
        "\n",
        "Let us declare them."
      ]
    },
    {
      "cell_type": "code",
      "execution_count": 17,
      "metadata": {
        "colab": {
          "base_uri": "https://localhost:8080/"
        },
        "execution": {
          "iopub.execute_input": "2025-04-05T23:20:37.257048Z",
          "iopub.status.busy": "2025-04-05T23:20:37.256718Z",
          "iopub.status.idle": "2025-04-05T23:20:37.262679Z",
          "shell.execute_reply": "2025-04-05T23:20:37.261478Z",
          "shell.execute_reply.started": "2025-04-05T23:20:37.257022Z"
        },
        "id": "BnP1nxOSXNGB",
        "outputId": "c19b1a5a-aff4-4d1c-a6a2-dbc5b4dcdac2",
        "trusted": true
      },
      "outputs": [
        {
          "name": "stdout",
          "output_type": "stream",
          "text": [
            "[CLS] [SEP] [PAD] [UNK]\n"
          ]
        }
      ],
      "source": [
        "init_token = tokenizer.cls_token\n",
        "eos_token = tokenizer.sep_token\n",
        "pad_token = tokenizer.pad_token\n",
        "unk_token = tokenizer.unk_token\n",
        "\n",
        "print(init_token, eos_token, pad_token, unk_token)"
      ]
    },
    {
      "cell_type": "markdown",
      "metadata": {
        "id": "dFwa5Zb2XNGB"
      },
      "source": [
        "We can call a function to find the indices of the special tokens."
      ]
    },
    {
      "cell_type": "code",
      "execution_count": 18,
      "metadata": {
        "colab": {
          "base_uri": "https://localhost:8080/"
        },
        "execution": {
          "iopub.execute_input": "2025-04-05T23:20:42.471109Z",
          "iopub.status.busy": "2025-04-05T23:20:42.470815Z",
          "iopub.status.idle": "2025-04-05T23:20:42.476704Z",
          "shell.execute_reply": "2025-04-05T23:20:42.475671Z",
          "shell.execute_reply.started": "2025-04-05T23:20:42.471086Z"
        },
        "id": "p_9UTs7NXNGC",
        "outputId": "3e4e239b-8f15-4c85-832c-e0f754e8e168",
        "trusted": true
      },
      "outputs": [
        {
          "name": "stdout",
          "output_type": "stream",
          "text": [
            "101 102 0 100\n"
          ]
        }
      ],
      "source": [
        "init_token_idx = tokenizer.convert_tokens_to_ids(init_token)\n",
        "eos_token_idx = tokenizer.convert_tokens_to_ids(eos_token)\n",
        "pad_token_idx = tokenizer.convert_tokens_to_ids(pad_token)\n",
        "unk_token_idx = tokenizer.convert_tokens_to_ids(unk_token)\n",
        "\n",
        "print(init_token_idx, eos_token_idx, pad_token_idx, unk_token_idx)"
      ]
    },
    {
      "cell_type": "markdown",
      "metadata": {
        "id": "-EBbWe8kXNGC"
      },
      "source": [
        "We can also find the maximum length of these input sizes by checking the `max_model_input_sizes` attribute (for this model, it is 512 tokens)."
      ]
    },
    {
      "cell_type": "code",
      "execution_count": 19,
      "metadata": {
        "colab": {
          "base_uri": "https://localhost:8080/"
        },
        "execution": {
          "iopub.execute_input": "2025-04-05T23:21:00.314085Z",
          "iopub.status.busy": "2025-04-05T23:21:00.313727Z",
          "iopub.status.idle": "2025-04-05T23:21:00.319966Z",
          "shell.execute_reply": "2025-04-05T23:21:00.318326Z",
          "shell.execute_reply.started": "2025-04-05T23:21:00.314056Z"
        },
        "id": "fm7tV-B5XNGD",
        "outputId": "0fd8953c-def1-426d-87a1-c8ab4604647c",
        "trusted": true
      },
      "outputs": [
        {
          "name": "stdout",
          "output_type": "stream",
          "text": [
            "512\n"
          ]
        }
      ],
      "source": [
        "max_input_length = tokenizer.model_max_length\n",
        "print(max_input_length)"
      ]
    },
    {
      "cell_type": "markdown",
      "metadata": {
        "id": "xtXjE8NxXNGD"
      },
      "source": [
        "Let us now define a function to tokenize any sentence, and cut length down to 510 tokens (we need one special `start` and `end` token for each sentence)."
      ]
    },
    {
      "cell_type": "code",
      "execution_count": 20,
      "metadata": {
        "execution": {
          "iopub.execute_input": "2025-04-05T23:21:13.605694Z",
          "iopub.status.busy": "2025-04-05T23:21:13.605399Z",
          "iopub.status.idle": "2025-04-05T23:21:13.609235Z",
          "shell.execute_reply": "2025-04-05T23:21:13.608434Z",
          "shell.execute_reply.started": "2025-04-05T23:21:13.605668Z"
        },
        "id": "3kyu0BmUXNGD",
        "trusted": true
      },
      "outputs": [],
      "source": [
        "def tokenize_and_cut(sentence):\n",
        "    tokens = tokenizer.tokenize(sentence)\n",
        "    tokens = tokens[:max_input_length-2]\n",
        "    return tokens"
      ]
    },
    {
      "cell_type": "code",
      "execution_count": 11,
      "metadata": {
        "colab": {
          "base_uri": "https://localhost:8080/"
        },
        "execution": {
          "iopub.execute_input": "2025-04-05T23:21:14.733381Z",
          "iopub.status.busy": "2025-04-05T23:21:14.732977Z",
          "iopub.status.idle": "2025-04-05T23:21:18.249334Z",
          "shell.execute_reply": "2025-04-05T23:21:18.248326Z",
          "shell.execute_reply.started": "2025-04-05T23:21:14.733353Z"
        },
        "id": "XNdW0hzxhyHK",
        "outputId": "24fadce4-0a76-43b0-a195-1fd7b0d98f52",
        "trusted": true
      },
      "outputs": [
        {
          "name": "stdout",
          "output_type": "stream",
          "text": [
            "\u001b[2K   \u001b[90m━━━━━━━━━━━━━━━━━━━━━━━━━━━━━━━━━━━━━━━━\u001b[0m \u001b[32m64.2/64.2 kB\u001b[0m \u001b[31m6.7 MB/s\u001b[0m eta \u001b[36m0:00:00\u001b[0m\n",
            "\u001b[2K   \u001b[90m━━━━━━━━━━━━━━━━━━━━━━━━━━━━━━━━━━━━━━━━\u001b[0m \u001b[32m363.4/363.4 MB\u001b[0m \u001b[31m3.2 MB/s\u001b[0m eta \u001b[36m0:00:00\u001b[0m\n",
            "\u001b[2K   \u001b[90m━━━━━━━━━━━━━━━━━━━━━━━━━━━━━━━━━━━━━━━━\u001b[0m \u001b[32m13.8/13.8 MB\u001b[0m \u001b[31m58.2 MB/s\u001b[0m eta \u001b[36m0:00:00\u001b[0m\n",
            "\u001b[2K   \u001b[90m━━━━━━━━━━━━━━━━━━━━━━━━━━━━━━━━━━━━━━━━\u001b[0m \u001b[32m24.6/24.6 MB\u001b[0m \u001b[31m37.9 MB/s\u001b[0m eta \u001b[36m0:00:00\u001b[0m\n",
            "\u001b[2K   \u001b[90m━━━━━━━━━━━━━━━━━━━━━━━━━━━━━━━━━━━━━━━━\u001b[0m \u001b[32m883.7/883.7 kB\u001b[0m \u001b[31m29.0 MB/s\u001b[0m eta \u001b[36m0:00:00\u001b[0m\n",
            "\u001b[2K   \u001b[90m━━━━━━━━━━━━━━━━━━━━━━━━━━━━━━━━━━━━━━━━\u001b[0m \u001b[32m664.8/664.8 MB\u001b[0m \u001b[31m2.8 MB/s\u001b[0m eta \u001b[36m0:00:00\u001b[0m\n",
            "\u001b[2K   \u001b[90m━━━━━━━━━━━━━━━━━━━━━━━━━━━━━━━━━━━━━━━━\u001b[0m \u001b[32m211.5/211.5 MB\u001b[0m \u001b[31m5.8 MB/s\u001b[0m eta \u001b[36m0:00:00\u001b[0m\n",
            "\u001b[2K   \u001b[90m━━━━━━━━━━━━━━━━━━━━━━━━━━━━━━━━━━━━━━━━\u001b[0m \u001b[32m56.3/56.3 MB\u001b[0m \u001b[31m11.3 MB/s\u001b[0m eta \u001b[36m0:00:00\u001b[0m\n",
            "\u001b[2K   \u001b[90m━━━━━━━━━━━━━━━━━━━━━━━━━━━━━━━━━━━━━━━━\u001b[0m \u001b[32m127.9/127.9 MB\u001b[0m \u001b[31m7.6 MB/s\u001b[0m eta \u001b[36m0:00:00\u001b[0m\n",
            "\u001b[2K   \u001b[90m━━━━━━━━━━━━━━━━━━━━━━━━━━━━━━━━━━━━━━━━\u001b[0m \u001b[32m207.5/207.5 MB\u001b[0m \u001b[31m6.3 MB/s\u001b[0m eta \u001b[36m0:00:00\u001b[0m\n",
            "\u001b[2K   \u001b[90m━━━━━━━━━━━━━━━━━━━━━━━━━━━━━━━━━━━━━━━━\u001b[0m \u001b[32m21.1/21.1 MB\u001b[0m \u001b[31m74.6 MB/s\u001b[0m eta \u001b[36m0:00:00\u001b[0m\n",
            "\u001b[?25h"
          ]
        }
      ],
      "source": [
        "!pip install -q torchtext==0.6.0"
      ]
    },
    {
      "cell_type": "markdown",
      "metadata": {
        "id": "JZGN3-pQXNGD"
      },
      "source": [
        "Finally, we are ready to load our dataset. We will use the [IMDB Moview Reviews](https://huggingface.co/datasets/imdb) dataset. Let us also split the train dataset to form a small validation set (to keep track of the best model)."
      ]
    },
    {
      "cell_type": "code",
      "execution_count": 21,
      "metadata": {
        "execution": {
          "iopub.execute_input": "2025-04-05T23:21:30.097345Z",
          "iopub.status.busy": "2025-04-05T23:21:30.096973Z",
          "iopub.status.idle": "2025-04-05T23:21:30.121721Z",
          "shell.execute_reply": "2025-04-05T23:21:30.120877Z",
          "shell.execute_reply.started": "2025-04-05T23:21:30.097320Z"
        },
        "id": "qCO5bDpLXNGD",
        "trusted": true
      },
      "outputs": [],
      "source": [
        "from torchtext import data, datasets\n",
        "\n",
        "TEXT = data.Field(batch_first = True,\n",
        "                  use_vocab = False,\n",
        "                  tokenize = tokenize_and_cut,\n",
        "                  preprocessing = tokenizer.convert_tokens_to_ids,\n",
        "                  init_token = init_token_idx,\n",
        "                  eos_token = eos_token_idx,\n",
        "                  pad_token = pad_token_idx,\n",
        "                  unk_token = unk_token_idx)\n",
        "\n",
        "LABEL = data.LabelField(dtype = torch.float)"
      ]
    },
    {
      "cell_type": "code",
      "execution_count": 23,
      "metadata": {
        "execution": {
          "iopub.execute_input": "2025-04-05T23:21:31.130327Z",
          "iopub.status.busy": "2025-04-05T23:21:31.129925Z",
          "iopub.status.idle": "2025-04-05T23:25:20.500038Z",
          "shell.execute_reply": "2025-04-05T23:25:20.498733Z",
          "shell.execute_reply.started": "2025-04-05T23:21:31.130296Z"
        },
        "id": "uVA1xdigXNGD",
        "trusted": true
      },
      "outputs": [],
      "source": [
        "train_data, test_data = datasets.IMDB.splits(TEXT, LABEL)\n",
        "\n",
        "train_data, valid_data = train_data.split(random_state = random.seed(SEED))"
      ]
    },
    {
      "cell_type": "markdown",
      "metadata": {
        "id": "WRTREe6iDoHm"
      },
      "source": [
        "Let us examine the size of the train, validation, and test dataset."
      ]
    },
    {
      "cell_type": "code",
      "execution_count": 24,
      "metadata": {
        "colab": {
          "base_uri": "https://localhost:8080/"
        },
        "execution": {
          "iopub.execute_input": "2025-04-05T23:25:20.501583Z",
          "iopub.status.busy": "2025-04-05T23:25:20.501272Z",
          "iopub.status.idle": "2025-04-05T23:25:20.507696Z",
          "shell.execute_reply": "2025-04-05T23:25:20.506125Z",
          "shell.execute_reply.started": "2025-04-05T23:25:20.501551Z"
        },
        "id": "6_Zp4SJ-XNGE",
        "outputId": "3d619d21-7877-43e1-cab8-46a4ddb00664",
        "trusted": true
      },
      "outputs": [
        {
          "name": "stdout",
          "output_type": "stream",
          "text": [
            "Train data size: 17500\n",
            "Test data size: 25000\n",
            "Validation data size: 7500\n"
          ]
        }
      ],
      "source": [
        "# Q1b. Print the number of data points in the train, test, and validation sets.\n",
        "print(f\"Train data size: {len(train_data)}\")\n",
        "print(f\"Test data size: {len(test_data)}\")\n",
        "print(f\"Validation data size: {len(valid_data)}\")"
      ]
    },
    {
      "cell_type": "markdown",
      "metadata": {
        "id": "YjPGXMxAXNGE"
      },
      "source": [
        "We will build a vocabulary for the labels using the `vocab.stoi` mapping."
      ]
    },
    {
      "cell_type": "code",
      "execution_count": 25,
      "metadata": {
        "execution": {
          "iopub.execute_input": "2025-04-05T23:25:20.509851Z",
          "iopub.status.busy": "2025-04-05T23:25:20.509486Z",
          "iopub.status.idle": "2025-04-05T23:25:20.557055Z",
          "shell.execute_reply": "2025-04-05T23:25:20.555694Z",
          "shell.execute_reply.started": "2025-04-05T23:25:20.509818Z"
        },
        "id": "7DgA2i4MXNGE",
        "trusted": true
      },
      "outputs": [],
      "source": [
        "LABEL.build_vocab(train_data)"
      ]
    },
    {
      "cell_type": "code",
      "execution_count": 26,
      "metadata": {
        "colab": {
          "base_uri": "https://localhost:8080/"
        },
        "execution": {
          "iopub.execute_input": "2025-04-05T23:25:20.558362Z",
          "iopub.status.busy": "2025-04-05T23:25:20.558051Z",
          "iopub.status.idle": "2025-04-05T23:25:20.569954Z",
          "shell.execute_reply": "2025-04-05T23:25:20.568388Z",
          "shell.execute_reply.started": "2025-04-05T23:25:20.558337Z"
        },
        "id": "7Zig9n_HXNGE",
        "outputId": "8f950d3b-6e2f-4164-833e-96cf6bec5f01",
        "trusted": true
      },
      "outputs": [
        {
          "name": "stdout",
          "output_type": "stream",
          "text": [
            "defaultdict(None, {'neg': 0, 'pos': 1})\n"
          ]
        }
      ],
      "source": [
        "print(LABEL.vocab.stoi)"
      ]
    },
    {
      "cell_type": "markdown",
      "metadata": {
        "id": "_W6FOpOGXNGE"
      },
      "source": [
        "Finally, we will set up the data-loader using a (large) batch size of 128. For text processing, we use the `BucketIterator` class."
      ]
    },
    {
      "cell_type": "code",
      "execution_count": 27,
      "metadata": {
        "execution": {
          "iopub.execute_input": "2025-04-05T23:25:20.571458Z",
          "iopub.status.busy": "2025-04-05T23:25:20.571099Z",
          "iopub.status.idle": "2025-04-05T23:25:20.598045Z",
          "shell.execute_reply": "2025-04-05T23:25:20.596787Z",
          "shell.execute_reply.started": "2025-04-05T23:25:20.571426Z"
        },
        "id": "ZuYOlNbgXNGE",
        "trusted": true
      },
      "outputs": [],
      "source": [
        "BATCH_SIZE = 128\n",
        "\n",
        "device = torch.device('cuda' if torch.cuda.is_available() else 'cpu')\n",
        "\n",
        "train_iterator, valid_iterator, test_iterator = data.BucketIterator.splits(\n",
        "    (train_data, valid_data, test_data),\n",
        "    batch_size = BATCH_SIZE,\n",
        "    device = device)"
      ]
    },
    {
      "cell_type": "markdown",
      "metadata": {
        "id": "XFoLyjCFXNGE"
      },
      "source": [
        "## Model preparation\n",
        "\n",
        "We will now load our pretrained BERT model. (Keep in mind that we should use the same model as the tokenizer that we chose above)."
      ]
    },
    {
      "cell_type": "code",
      "execution_count": 72,
      "metadata": {
        "execution": {
          "iopub.execute_input": "2025-04-05T23:25:20.599640Z",
          "iopub.status.busy": "2025-04-05T23:25:20.599216Z",
          "iopub.status.idle": "2025-04-05T23:25:38.191764Z",
          "shell.execute_reply": "2025-04-05T23:25:38.190992Z",
          "shell.execute_reply.started": "2025-04-05T23:25:20.599613Z"
        },
        "id": "C13zMlxKXNGF",
        "trusted": true
      },
      "outputs": [],
      "source": [
        "from transformers import BertTokenizer, BertModel\n",
        "\n",
        "bert = BertModel.from_pretrained('bert-base-uncased')"
      ]
    },
    {
      "cell_type": "markdown",
      "metadata": {
        "id": "NIopY5PfELkZ"
      },
      "source": [
        "As mentioned above, we will append the BERT model with a bidirectional GRU to perform the classification."
      ]
    },
    {
      "cell_type": "code",
      "execution_count": 73,
      "metadata": {
        "execution": {
          "iopub.execute_input": "2025-04-05T23:25:52.571880Z",
          "iopub.status.busy": "2025-04-05T23:25:52.571303Z",
          "iopub.status.idle": "2025-04-05T23:25:52.578692Z",
          "shell.execute_reply": "2025-04-05T23:25:52.577520Z",
          "shell.execute_reply.started": "2025-04-05T23:25:52.571852Z"
        },
        "id": "jCKKvxdCXNGF",
        "trusted": true
      },
      "outputs": [],
      "source": [
        "import torch.nn as nn\n",
        "\n",
        "class BERTGRUSentiment(nn.Module):\n",
        "    def __init__(self,bert,hidden_dim,output_dim,n_layers,bidirectional,dropout):\n",
        "\n",
        "        super().__init__()\n",
        "\n",
        "        self.bert = bert\n",
        "\n",
        "        embedding_dim = bert.config.to_dict()['hidden_size']\n",
        "\n",
        "        self.rnn = nn.GRU(embedding_dim,\n",
        "                          hidden_dim,\n",
        "                          num_layers = n_layers,\n",
        "                          bidirectional = bidirectional,\n",
        "                          batch_first = True,\n",
        "                          dropout = 0 if n_layers < 2 else dropout)\n",
        "\n",
        "        self.out = nn.Linear(hidden_dim * 2 if bidirectional else hidden_dim, output_dim)\n",
        "\n",
        "        self.dropout = nn.Dropout(dropout)\n",
        "\n",
        "    def forward(self, text):\n",
        "\n",
        "        #text = [batch size, sent len]\n",
        "\n",
        "        with torch.no_grad():\n",
        "            embedded = self.bert(text)[0]\n",
        "\n",
        "        #embedded = [batch size, sent len, emb dim]\n",
        "\n",
        "        _, hidden = self.rnn(embedded)\n",
        "\n",
        "        #hidden = [n layers * n directions, batch size, emb dim]\n",
        "\n",
        "        if self.rnn.bidirectional:\n",
        "            hidden = self.dropout(torch.cat((hidden[-2,:,:], hidden[-1,:,:]), dim = 1))\n",
        "        else:\n",
        "            hidden = self.dropout(hidden[-1,:,:])\n",
        "\n",
        "        #hidden = [batch size, hid dim]\n",
        "\n",
        "        output = self.out(hidden)\n",
        "\n",
        "        #output = [batch size, out dim]\n",
        "\n",
        "        return output"
      ]
    },
    {
      "cell_type": "markdown",
      "metadata": {
        "id": "bLNOMDvWXNGF"
      },
      "source": [
        "Next, we'll define our actual model.\n",
        "\n",
        "Our model will consist of\n",
        "\n",
        "* the BERT embedding (whose weights are frozen)\n",
        "* a bidirectional GRU with 2 layers, with hidden dim 256 and dropout=0.25.\n",
        "* a linear layer on top which does binary sentiment classification."
      ]
    },
    {
      "cell_type": "markdown",
      "metadata": {
        "id": "OSUKiU-bXNGF"
      },
      "source": [
        "Let us create an instance of this model."
      ]
    },
    {
      "cell_type": "code",
      "execution_count": null,
      "metadata": {
        "execution": {
          "iopub.execute_input": "2025-04-05T23:27:20.579466Z",
          "iopub.status.busy": "2025-04-05T23:27:20.579120Z",
          "iopub.status.idle": "2025-04-05T23:27:20.609354Z",
          "shell.execute_reply": "2025-04-05T23:27:20.608150Z",
          "shell.execute_reply.started": "2025-04-05T23:27:20.579439Z"
        },
        "id": "zIt8nNZeXNGF",
        "trusted": true
      },
      "outputs": [],
      "source": [
        "# Q2a: Instantiate the above model by setting the right hyperparameters.\n",
        "\n",
        "# insert code here\n",
        "\n",
        "HIDDEN_DIM = 256         # GRU hidden state dimension (feature size)\n",
        "OUTPUT_DIM = 1           # Output dimension for binary classification (1 node for probability/logit)\n",
        "N_LAYERS = 2             # Number of GRU layers (stacked layers for depth)\n",
        "BIDIRECTIONAL = True     # Use bidirectional GRU to capture context from both directions\n",
        "DROPOUT = 0.25           # Dropout rate for regularization\n",
        "\n",
        "model = BERTGRUSentiment(bert,\n",
        "                         HIDDEN_DIM,\n",
        "                         OUTPUT_DIM,\n",
        "                         N_LAYERS,\n",
        "                         BIDIRECTIONAL,\n",
        "                         DROPOUT)"
      ]
    },
    {
      "cell_type": "markdown",
      "metadata": {
        "id": "I0EZFcVoXNGF"
      },
      "source": [
        "We can check how many parameters the model has."
      ]
    },
    {
      "cell_type": "code",
      "execution_count": null,
      "metadata": {
        "colab": {
          "base_uri": "https://localhost:8080/"
        },
        "execution": {
          "iopub.execute_input": "2025-04-05T23:28:24.394520Z",
          "iopub.status.busy": "2025-04-05T23:28:24.394253Z",
          "iopub.status.idle": "2025-04-05T23:28:24.399528Z",
          "shell.execute_reply": "2025-04-05T23:28:24.398741Z",
          "shell.execute_reply.started": "2025-04-05T23:28:24.394500Z"
        },
        "id": "ypGbLI8JXNGF",
        "outputId": "d80fc0e5-5742-46c6-febc-7cb9c9a73875",
        "trusted": true
      },
      "outputs": [
        {
          "name": "stdout",
          "output_type": "stream",
          "text": [
            "112241409\n"
          ]
        }
      ],
      "source": [
        "# Q2b: Print the number of trainable parameters in this model.\n",
        "# insert code here.\n",
        "print(sum(p.numel() for p in model.parameters() if p.requires_grad))"
      ]
    },
    {
      "cell_type": "markdown",
      "metadata": {
        "id": "8jn_34hiXNGF"
      },
      "source": [
        "\n",
        "Oh no~ if you did this correctly, you should see that this contains *112 million* parameters. Standard machines (or Colab) cannot handle such large models.\n",
        "\n",
        "However, the majority of these parameters are from the BERT embedding, which we are not going to (re)train. In order to freeze certain parameters we can set their `requires_grad` attribute to `False`. To do this, we simply loop through all of the `named_parameters` in our model and if they're a part of the `bert` transformer model, we set `requires_grad = False`."
      ]
    },
    {
      "cell_type": "code",
      "execution_count": 76,
      "metadata": {
        "execution": {
          "iopub.execute_input": "2025-04-05T23:28:56.104576Z",
          "iopub.status.busy": "2025-04-05T23:28:56.104293Z",
          "iopub.status.idle": "2025-04-05T23:28:56.109256Z",
          "shell.execute_reply": "2025-04-05T23:28:56.108240Z",
          "shell.execute_reply.started": "2025-04-05T23:28:56.104553Z"
        },
        "id": "DgMLxKHxXNGF",
        "trusted": true
      },
      "outputs": [],
      "source": [
        "for name, param in model.named_parameters():\n",
        "    if name.startswith('bert'):\n",
        "        param.requires_grad = False"
      ]
    },
    {
      "cell_type": "code",
      "execution_count": 77,
      "metadata": {
        "colab": {
          "base_uri": "https://localhost:8080/"
        },
        "execution": {
          "iopub.execute_input": "2025-04-05T23:29:01.768028Z",
          "iopub.status.busy": "2025-04-05T23:29:01.767700Z",
          "iopub.status.idle": "2025-04-05T23:29:01.774048Z",
          "shell.execute_reply": "2025-04-05T23:29:01.772736Z",
          "shell.execute_reply.started": "2025-04-05T23:29:01.767998Z"
        },
        "id": "POzRK-TBXNGF",
        "outputId": "d1851230-155f-4ecb-d544-75933f0953dd",
        "trusted": true
      },
      "outputs": [
        {
          "name": "stdout",
          "output_type": "stream",
          "text": [
            "2759169\n"
          ]
        }
      ],
      "source": [
        "# Q2c: After freezing the BERT weights/biases, print the number of remaining trainable parameters.\n",
        "print(sum(p.numel() for p in model.parameters() if p.requires_grad))"
      ]
    },
    {
      "cell_type": "markdown",
      "metadata": {
        "id": "__27RDchXNGF"
      },
      "source": [
        "We should now see that our model has under 3M trainable parameters. Still not trivial but manageable."
      ]
    },
    {
      "cell_type": "markdown",
      "metadata": {
        "id": "oi7nx_A-XNGF"
      },
      "source": [
        "## Train the Model\n",
        "\n",
        "All this is now largely standard.\n",
        "\n",
        "We will use:\n",
        "* the Binary Cross Entropy loss function: `nn.BCEWithLogitsLoss()`\n",
        "* the Adam optimizer\n",
        "\n",
        "and run it for 2 epochs (that should be enough to start getting meaningful results)."
      ]
    },
    {
      "cell_type": "code",
      "execution_count": 55,
      "metadata": {
        "execution": {
          "iopub.execute_input": "2025-04-05T23:29:12.088155Z",
          "iopub.status.busy": "2025-04-05T23:29:12.087810Z",
          "iopub.status.idle": "2025-04-05T23:29:12.094104Z",
          "shell.execute_reply": "2025-04-05T23:29:12.092509Z",
          "shell.execute_reply.started": "2025-04-05T23:29:12.088126Z"
        },
        "id": "0l6NYI4aXNGG",
        "trusted": true
      },
      "outputs": [],
      "source": [
        "import torch.optim as optim\n",
        "\n",
        "optimizer = optim.Adam(model.parameters())"
      ]
    },
    {
      "cell_type": "code",
      "execution_count": 56,
      "metadata": {
        "execution": {
          "iopub.execute_input": "2025-04-05T23:29:12.603763Z",
          "iopub.status.busy": "2025-04-05T23:29:12.603498Z",
          "iopub.status.idle": "2025-04-05T23:29:12.607946Z",
          "shell.execute_reply": "2025-04-05T23:29:12.607083Z",
          "shell.execute_reply.started": "2025-04-05T23:29:12.603746Z"
        },
        "id": "fezxMblzXNGG",
        "trusted": true
      },
      "outputs": [],
      "source": [
        "criterion = nn.BCEWithLogitsLoss()"
      ]
    },
    {
      "cell_type": "code",
      "execution_count": 57,
      "metadata": {
        "execution": {
          "iopub.execute_input": "2025-04-05T23:29:15.777723Z",
          "iopub.status.busy": "2025-04-05T23:29:15.777409Z",
          "iopub.status.idle": "2025-04-05T23:29:15.788555Z",
          "shell.execute_reply": "2025-04-05T23:29:15.787205Z",
          "shell.execute_reply.started": "2025-04-05T23:29:15.777697Z"
        },
        "id": "JjmPNe0SXNGG",
        "trusted": true
      },
      "outputs": [],
      "source": [
        "model = model.to(device)\n",
        "criterion = criterion.to(device)"
      ]
    },
    {
      "cell_type": "markdown",
      "metadata": {
        "id": "yjHDXoJDXNGG"
      },
      "source": [
        "\n",
        "Also, define functions for:\n",
        "* calculating accuracy.\n",
        "* training for a single epoch, and reporting loss/accuracy.\n",
        "* performing an evaluation epoch, and reporting loss/accuracy.\n",
        "* calculating running times."
      ]
    },
    {
      "cell_type": "code",
      "execution_count": 58,
      "metadata": {
        "id": "Z5UrsZyTXNGG"
      },
      "outputs": [],
      "source": [
        "def binary_accuracy(preds, y):\n",
        "    # Convert logits to probabilities with sigmoid, round to get binary predictions, and compute accuracy.\n",
        "    rounded_preds = torch.round(torch.sigmoid(preds))\n",
        "    correct = (rounded_preds == y).float()\n",
        "    return correct.sum() / len(correct)\n"
      ]
    },
    {
      "cell_type": "code",
      "execution_count": 59,
      "metadata": {
        "id": "8p-Xs97uXNGG"
      },
      "outputs": [],
      "source": [
        "def train(model, iterator, optimizer, criterion):\n",
        "    # Train for one epoch:\n",
        "    # - Set model to training mode.\n",
        "    # - For each batch, calculate predictions, loss, and accuracy.\n",
        "    # - Backpropagate and update parameters.\n",
        "    # - Accumulate batch loss and accuracy to compute epoch averages.\n",
        "    epoch_loss = 0\n",
        "    epoch_acc = 0\n",
        "    model.train()\n",
        "    for batch in iterator:\n",
        "        optimizer.zero_grad()\n",
        "        predictions = model(batch.text).squeeze(1)\n",
        "        loss = criterion(predictions, batch.label)\n",
        "        acc = binary_accuracy(predictions, batch.label)\n",
        "        loss.backward()\n",
        "        optimizer.step()\n",
        "        epoch_loss += loss.item()\n",
        "        epoch_acc += acc.item()\n",
        "    return epoch_loss / len(iterator), epoch_acc / len(iterator)\n"
      ]
    },
    {
      "cell_type": "code",
      "execution_count": 60,
      "metadata": {
        "id": "8cu4vLfpXNGG"
      },
      "outputs": [],
      "source": [
        "def evaluate(model, iterator, criterion):\n",
        "    # Evaluate for one epoch:\n",
        "    # - Set model to evaluation mode (disables dropout, etc.).\n",
        "    # - For each batch, calculate predictions, loss, and accuracy without updating parameters.\n",
        "    # - Accumulate results to compute average loss and accuracy.\n",
        "    epoch_loss = 0\n",
        "    epoch_acc = 0\n",
        "    model.eval()\n",
        "    with torch.no_grad():\n",
        "        for batch in iterator:\n",
        "            predictions = model(batch.text).squeeze(1)\n",
        "            loss = criterion(predictions, batch.label)\n",
        "            acc = binary_accuracy(predictions, batch.label)\n",
        "            epoch_loss += loss.item()\n",
        "            epoch_acc += acc.item()\n",
        "    return epoch_loss / len(iterator), epoch_acc / len(iterator)\n"
      ]
    },
    {
      "cell_type": "code",
      "execution_count": 61,
      "metadata": {
        "id": "UFn-f7fNXNGG"
      },
      "outputs": [],
      "source": [
        "import time\n",
        "\n",
        "def epoch_time(start_time, end_time):\n",
        "    # Calculate the elapsed time between start and end,\n",
        "    # converting the total seconds into minutes and seconds.\n",
        "    elapsed_time = end_time - start_time\n",
        "    elapsed_mins = int(elapsed_time / 60)\n",
        "    elapsed_secs = int(elapsed_time - (elapsed_mins * 60))\n",
        "    return elapsed_mins, elapsed_secs"
      ]
    },
    {
      "cell_type": "markdown",
      "metadata": {
        "id": "sXCsaJPBXNGG"
      },
      "source": [
        "We are now ready to train our model.\n",
        "\n",
        "**Statutory warning**: Training such models will take a very long time since this model is considerably larger than anything we have trained before. Even though we are not training any of the BERT parameters, we still have to make a forward pass. This will take time; each epoch may take upwards of 30 minutes on Colab.\n",
        "\n",
        "Let us train for 2 epochs and print train loss/accuracy and validation loss/accuracy for each epoch. Let us also measure running time.\n",
        "\n",
        "Saving intermediate model checkpoints using  \n",
        "\n",
        "`torch.save(model.state_dict(),'model.pt')`\n",
        "\n",
        "may be helpful with such large models."
      ]
    },
    {
      "cell_type": "code",
      "execution_count": 62,
      "metadata": {
        "colab": {
          "base_uri": "https://localhost:8080/"
        },
        "id": "sFbTyZzNXNGG",
        "outputId": "cbb6599c-c674-47c5-dc11-2ea2b34a09a2"
      },
      "outputs": [
        {
          "name": "stdout",
          "output_type": "stream",
          "text": [
            "Epoch: 01 | Epoch Time: 11m 5s\n",
            "\tTrain Loss: 0.493 | Train Acc: 74.43%\n",
            "\t Val. Loss: 0.285 |  Val. Acc: 88.40%\n",
            "Epoch: 02 | Epoch Time: 11m 5s\n",
            "\tTrain Loss: 0.266 | Train Acc: 89.12%\n",
            "\t Val. Loss: 0.238 |  Val. Acc: 90.62%\n"
          ]
        }
      ],
      "source": [
        "import time\n",
        "\n",
        "N_EPOCHS = 2\n",
        "best_valid_loss = float('inf')\n",
        "\n",
        "for epoch in range(N_EPOCHS):\n",
        "    start_time = time.time()\n",
        "\n",
        "    train_loss, train_acc = train(model, train_iterator, optimizer, criterion)\n",
        "    valid_loss, valid_acc = evaluate(model, valid_iterator, criterion)\n",
        "\n",
        "    end_time = time.time()\n",
        "    epoch_mins, epoch_secs = epoch_time(start_time, end_time)\n",
        "\n",
        "    if valid_loss < best_valid_loss:\n",
        "        best_valid_loss = valid_loss\n",
        "        torch.save(model.state_dict(), 'model.pt')\n",
        "\n",
        "    print(f'Epoch: {epoch+1:02} | Epoch Time: {epoch_mins}m {epoch_secs}s')\n",
        "    print(f'\\tTrain Loss: {train_loss:.3f} | Train Acc: {train_acc*100:.2f}%')\n",
        "    print(f'\\t Val. Loss: {valid_loss:.3f} |  Val. Acc: {valid_acc*100:.2f}%')"
      ]
    },
    {
      "cell_type": "markdown",
      "metadata": {
        "id": "PAPlc8NrXNGG"
      },
      "source": [
        "Load the best model parameters (measured in terms of validation loss) and evaluate the loss/accuracy on the test set."
      ]
    },
    {
      "cell_type": "code",
      "execution_count": 63,
      "metadata": {
        "colab": {
          "base_uri": "https://localhost:8080/"
        },
        "id": "lsSEKrTBXNGG",
        "outputId": "589e6edf-e867-4feb-95d9-8f64983238bd"
      },
      "outputs": [
        {
          "name": "stdout",
          "output_type": "stream",
          "text": [
            "Test Loss: 0.236 | Test Acc: 90.69%\n"
          ]
        }
      ],
      "source": [
        "model.load_state_dict(torch.load('model.pt'))\n",
        "\n",
        "test_loss, test_acc = evaluate(model, test_iterator, criterion)\n",
        "\n",
        "print(f'Test Loss: {test_loss:.3f} | Test Acc: {test_acc*100:.2f}%')"
      ]
    },
    {
      "cell_type": "markdown",
      "metadata": {
        "id": "tm5o8PRhXNGG"
      },
      "source": [
        "## Inference\n",
        "\n",
        "We'll then use the model to test the sentiment of some fake movie reviews. We tokenize the input sentence, trim it down to length=510, add the special start and end tokens to either side, convert it to a `LongTensor`, add a fake batch dimension using `unsqueeze`, and perform inference using our model."
      ]
    },
    {
      "cell_type": "code",
      "execution_count": 64,
      "metadata": {
        "id": "_tHwJmTVXNGG"
      },
      "outputs": [],
      "source": [
        "def predict_sentiment(model, tokenizer, sentence):\n",
        "    model.eval()\n",
        "    tokens = tokenizer.tokenize(sentence)\n",
        "    tokens = tokens[:max_input_length-2]\n",
        "    indexed = [init_token_idx] + tokenizer.convert_tokens_to_ids(tokens) + [eos_token_idx]\n",
        "    tensor = torch.LongTensor(indexed).to(device)\n",
        "    tensor = tensor.unsqueeze(0)\n",
        "    prediction = torch.sigmoid(model(tensor))\n",
        "    return prediction.item()"
      ]
    },
    {
      "cell_type": "code",
      "execution_count": 65,
      "metadata": {
        "colab": {
          "base_uri": "https://localhost:8080/"
        },
        "id": "isBi_cZ-XNGG",
        "outputId": "6327271e-4b1b-48c8-9472-257dd4224a24"
      },
      "outputs": [
        {
          "data": {
            "text/plain": [
              "0.04777560010552406"
            ]
          },
          "execution_count": 65,
          "metadata": {},
          "output_type": "execute_result"
        }
      ],
      "source": [
        "# Q4a. Perform sentiment analysis on the following two sentences.\n",
        "\n",
        "predict_sentiment(model, tokenizer, \"Justice League is terrible. I hated it.\")"
      ]
    },
    {
      "cell_type": "code",
      "execution_count": 66,
      "metadata": {
        "colab": {
          "base_uri": "https://localhost:8080/"
        },
        "id": "JzjdRND0XNGG",
        "outputId": "6aa2a896-e71c-48ed-c2e5-a8cccf4aaa1c"
      },
      "outputs": [
        {
          "data": {
            "text/plain": [
              "0.8442795276641846"
            ]
          },
          "execution_count": 66,
          "metadata": {},
          "output_type": "execute_result"
        }
      ],
      "source": [
        "predict_sentiment(model, tokenizer, \"Avengers was great!!\")"
      ]
    },
    {
      "cell_type": "markdown",
      "metadata": {
        "id": "kzkrFYjwCXfM"
      },
      "source": [
        "Great! Try playing around with two other movie reviews (you can grab some off the internet or make up text yourselves), and see whether your sentiment classifier is correctly capturing the mood of the review."
      ]
    },
    {
      "cell_type": "code",
      "execution_count": 68,
      "metadata": {
        "id": "c_lAynXPGLn2"
      },
      "outputs": [],
      "source": [
        "# Q4b. Perform sentiment analysis on two other movie review fragments of your choice."
      ]
    },
    {
      "cell_type": "markdown",
      "metadata": {
        "id": "9UJDXmMbQZbt"
      },
      "source": [
        "The reivew below is very mixed. More negative than positive but the model seems to classify it as positive. Possibly because of the lenght and a few good words"
      ]
    },
    {
      "cell_type": "code",
      "execution_count": 69,
      "metadata": {
        "colab": {
          "base_uri": "https://localhost:8080/"
        },
        "id": "z6OscfMyNMxV",
        "outputId": "c1494287-6015-4629-bcc1-5a9de5789a24"
      },
      "outputs": [
        {
          "data": {
            "text/plain": [
              "0.9586470127105713"
            ]
          },
          "execution_count": 69,
          "metadata": {},
          "output_type": "execute_result"
        }
      ],
      "source": [
        "#salt burn, copied from google\n",
        "\n",
        "review = \"It's hard not to feel disappointed at how this film ended after such a brilliant start. Sadly my takeaway is one of a movie copying several other films I won't name in order to avoid obvious spoilers. Saltburn uses extreme and novel sex scenes, bordering on the outrageous, to grab attention. These certainly add shock, but limited value as they ultimately struggle to save the plot. The characters are well cast and initially adorable. However, the climactic flashback scenes are so predictable that they spoil the storyline. Yet the acting is brilliant, most notably from Rosamund Pike and Barry Keoghan who both build the narrative perfectly. Meanwhile Richard E Grant plays an exceptional Richard E Grant. Overall an extremely engaging film which just falls short.\"\n",
        "\n",
        "predict_sentiment(model, tokenizer, review)"
      ]
    },
    {
      "cell_type": "markdown",
      "metadata": {
        "id": "KwMUZKBKQrGZ"
      },
      "source": [
        "This review is average but the model classies it as very positive"
      ]
    },
    {
      "cell_type": "code",
      "execution_count": 70,
      "metadata": {
        "colab": {
          "base_uri": "https://localhost:8080/"
        },
        "id": "c-qwVBVSNb2f",
        "outputId": "8eec6106-5a8f-4300-9247-f8617acc3e55"
      },
      "outputs": [
        {
          "data": {
            "text/plain": [
              "0.8574103713035583"
            ]
          },
          "execution_count": 70,
          "metadata": {},
          "output_type": "execute_result"
        }
      ],
      "source": [
        "review = \"It's alright\"\n",
        "\n",
        "predict_sentiment(model, tokenizer, review)"
      ]
    },
    {
      "cell_type": "markdown",
      "metadata": {
        "id": "_-NUHvXnQ4Ej"
      },
      "source": [
        "This is an accurate prediction of the review."
      ]
    },
    {
      "cell_type": "code",
      "execution_count": 71,
      "metadata": {
        "colab": {
          "base_uri": "https://localhost:8080/"
        },
        "id": "XFbP4MFzPcUI",
        "outputId": "f87cd252-2611-494b-c64b-83253ac00f67"
      },
      "outputs": [
        {
          "data": {
            "text/plain": [
              "0.34750089049339294"
            ]
          },
          "execution_count": 71,
          "metadata": {},
          "output_type": "execute_result"
        }
      ],
      "source": [
        "review = \"eh\"\n",
        "\n",
        "predict_sentiment(model, tokenizer, review)"
      ]
    },
    {
      "cell_type": "code",
      "execution_count": null,
      "metadata": {
        "id": "qtQ5I0QWPgIG"
      },
      "outputs": [],
      "source": []
    }
  ],
  "metadata": {
    "accelerator": "GPU",
    "colab": {
      "provenance": []
    },
    "kaggle": {
      "accelerator": "none",
      "dataSources": [],
      "dockerImageVersionId": 30918,
      "isGpuEnabled": false,
      "isInternetEnabled": true,
      "language": "python",
      "sourceType": "notebook"
    },
    "kernelspec": {
      "display_name": "Python 3",
      "language": "python",
      "name": "python3"
    },
    "language_info": {
      "codemirror_mode": {
        "name": "ipython",
        "version": 3
      },
      "file_extension": ".py",
      "mimetype": "text/x-python",
      "name": "python",
      "nbconvert_exporter": "python",
      "pygments_lexer": "ipython3",
      "version": "3.10.12"
    }
  },
  "nbformat": 4,
  "nbformat_minor": 0
}
