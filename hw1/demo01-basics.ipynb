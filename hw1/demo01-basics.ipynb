{
 "cells": [
  {
   "cell_type": "markdown",
   "metadata": {
    "id": "txDUKwFp2O9L"
   },
   "source": [
    "# PyTorch Basics\n",
    "\n",
    "I'll assume that everyone is familiar with python. Training neural nets in bare python is somewhat painful, but fortunately there are several well-established libraries which can help. I like pytorch, which is built upon an earlier library called torch. There are many others, including TensorFlow and Jax."
   ]
  },
  {
   "cell_type": "code",
   "execution_count": 1,
   "metadata": {
    "id": "GlCIT7IJ2L0K"
   },
   "outputs": [],
   "source": [
    "# We start by importing the libraries we'll use today\n",
    "import numpy as np\n",
    "import torch\n",
    "import torchvision"
   ]
  },
  {
   "cell_type": "code",
   "execution_count": 2,
   "metadata": {
    "colab": {
     "base_uri": "https://localhost:8080/"
    },
    "executionInfo": {
     "elapsed": 5,
     "status": "ok",
     "timestamp": 1674771419296,
     "user": {
      "displayName": "Karthik Garimella",
      "userId": "04378348427673454344"
     },
     "user_tz": 300
    },
    "id": "MvYbWcJji2gZ",
    "outputId": "b5e4e334-516c-4215-9ac2-1bf357b9eb2b"
   },
   "outputs": [
    {
     "name": "stdout",
     "output_type": "stream",
     "text": [
      "[[0.33019079 0.79115599 0.53016433]\n",
      " [0.19352589 0.52861492 0.95683112]]\n",
      "tensor([[0.3302, 0.7912, 0.5302],\n",
      "        [0.1935, 0.5286, 0.9568]], dtype=torch.float64)\n"
     ]
    }
   ],
   "source": [
    "a = np.random.rand(2,3)\n",
    "b = torch.from_numpy(a)\n",
    "\n",
    "print(a)\n",
    "print(b)"
   ]
  },
  {
   "cell_type": "code",
   "execution_count": 3,
   "metadata": {
    "colab": {
     "base_uri": "https://localhost:8080/"
    },
    "executionInfo": {
     "elapsed": 489,
     "status": "ok",
     "timestamp": 1674771421190,
     "user": {
      "displayName": "Karthik Garimella",
      "userId": "04378348427673454344"
     },
     "user_tz": 300
    },
    "id": "vDhu7psgjBVe",
    "outputId": "4cc4b7bc-1207-4b08-dc35-50ea1c0fdb0c"
   },
   "outputs": [
    {
     "name": "stdout",
     "output_type": "stream",
     "text": [
      "tensor([[10.3302, 10.7912, 10.5302],\n",
      "        [10.1935, 10.5286, 10.9568]], dtype=torch.float64)\n",
      "\n",
      "tensor([[0.3242, 0.7112, 0.5057],\n",
      "        [0.1923, 0.5043, 0.8174]], dtype=torch.float64)\n",
      "\n",
      "tensor(3.3305, dtype=torch.float64)\n",
      "\n",
      "tensor(0.5551, dtype=torch.float64)\n",
      "\n",
      "torch.Size([2, 3])\n"
     ]
    }
   ],
   "source": [
    "print(b + 10.0)\n",
    "print()\n",
    "print(torch.sin(b))\n",
    "print()\n",
    "print(b.sum())\n",
    "print()\n",
    "print(b.mean())\n",
    "print()\n",
    "print(b.shape)"
   ]
  },
  {
   "cell_type": "markdown",
   "metadata": {
    "id": "otMKsc9W2woY"
   },
   "source": [
    "Torch believes everything is a *tensor.*\n",
    "\n",
    "The main intuition is that tensors allow for intuitive and efficient matrix multiplication across different indexing dimensions. Soon, we will see that training neural nets basically consits of *forward* and *backward* passes, both of which are essentially matrix multiplies.\n",
    "\n",
    "The other thing about torch variables is that they (natively) can be differentiated. Again, we'll see why this is important when we learn about backpropagation."
   ]
  },
  {
   "cell_type": "markdown",
   "metadata": {
    "id": "4DihuedmqDyz"
   },
   "source": [
    "Suppose we want $dy/da$ in the following expression:\n",
    "- $y = a + b$"
   ]
  },
  {
   "cell_type": "code",
   "execution_count": 4,
   "metadata": {
    "colab": {
     "base_uri": "https://localhost:8080/"
    },
    "executionInfo": {
     "elapsed": 563,
     "status": "ok",
     "timestamp": 1674771424532,
     "user": {
      "displayName": "Karthik Garimella",
      "userId": "04378348427673454344"
     },
     "user_tz": 300
    },
    "id": "5YhcphgzjZXK",
    "outputId": "dec36095-4069-4d57-f316-2087a9a2b9fa"
   },
   "outputs": [
    {
     "name": "stdout",
     "output_type": "stream",
     "text": [
      "a: tensor([[0.3312]], requires_grad=True)\n",
      "b: tensor([[0.0790]])\n",
      "y: tensor([[0.4102]], grad_fn=<AddBackward0>)\n"
     ]
    }
   ],
   "source": [
    "a = torch.rand(1,1, requires_grad=True)\n",
    "b = torch.rand(1,1)\n",
    "y = a + b\n",
    "print(\"a:\", a)\n",
    "print(\"b:\", b)\n",
    "print(\"y:\", y)"
   ]
  },
  {
   "cell_type": "markdown",
   "metadata": {
    "id": "L3DxgbnpyQmA"
   },
   "source": [
    "Here, $y$ is a function of the input $a$ so we can use PyTorch to compute $dy/da$"
   ]
  },
  {
   "cell_type": "code",
   "execution_count": 5,
   "metadata": {
    "colab": {
     "base_uri": "https://localhost:8080/"
    },
    "executionInfo": {
     "elapsed": 4,
     "status": "ok",
     "timestamp": 1674771426438,
     "user": {
      "displayName": "Karthik Garimella",
      "userId": "04378348427673454344"
     },
     "user_tz": 300
    },
    "id": "EWcV4s7zyMdW",
    "outputId": "2172046d-06e0-4f5c-e24a-7edd7523238f"
   },
   "outputs": [
    {
     "name": "stdout",
     "output_type": "stream",
     "text": [
      "dy/da: tensor([[1.]])\n"
     ]
    }
   ],
   "source": [
    "y.backward()\n",
    "print(\"dy/da:\", a.grad)"
   ]
  },
  {
   "cell_type": "markdown",
   "metadata": {
    "id": "zAQSva_osWlH"
   },
   "source": [
    "Let's try this again with a more complex function:\n",
    "- $y = a^2 \\cdot b$\n",
    "\n"
   ]
  },
  {
   "cell_type": "code",
   "execution_count": 6,
   "metadata": {
    "colab": {
     "base_uri": "https://localhost:8080/"
    },
    "executionInfo": {
     "elapsed": 4,
     "status": "ok",
     "timestamp": 1674771428538,
     "user": {
      "displayName": "Karthik Garimella",
      "userId": "04378348427673454344"
     },
     "user_tz": 300
    },
    "id": "rjxHZS1or4Rb",
    "outputId": "9ba00ff1-4277-465f-8faa-556e28548246"
   },
   "outputs": [
    {
     "name": "stdout",
     "output_type": "stream",
     "text": [
      "a: tensor([[0.0382]], requires_grad=True)\n",
      "b: tensor([[0.9591]])\n",
      "y: tensor([[0.0014]], grad_fn=<MulBackward0>)\n",
      "dy/da: tensor([[0.0732]])\n",
      "dy/da: tensor([[0.0732]], grad_fn=<MulBackward0>)\n"
     ]
    }
   ],
   "source": [
    "a = torch.rand(1,1, requires_grad=True)\n",
    "b = torch.rand(1,1)\n",
    "y = (a**2)*b\n",
    "print(\"a:\", a)\n",
    "print(\"b:\", b)\n",
    "print(\"y:\", y)\n",
    "y.backward()\n",
    "print(\"dy/da:\", a.grad)\n",
    "print(\"dy/da:\", 2 * a * b)"
   ]
  },
  {
   "cell_type": "markdown",
   "metadata": {
    "id": "cDdbLxhFX1vW"
   },
   "source": [
    "Torch has calculated $dy/da$ using backpropagation which is in agreement with our answer calculated using standard differentiation rules."
   ]
  },
  {
   "cell_type": "markdown",
   "metadata": {
    "id": "Qn8qXugsAZ5I"
   },
   "source": [
    "Here is an example with matrices and vectors:"
   ]
  },
  {
   "cell_type": "code",
   "execution_count": 7,
   "metadata": {
    "id": "2F0-AtH32vae"
   },
   "outputs": [],
   "source": [
    "A = torch.rand(2,2)\n",
    "b = torch.rand(2,1)\n",
    "x = torch.rand(2,1, requires_grad = True)\n",
    "\n",
    "y = torch.matmul(A, x) + b\n",
    "z = y.sum()"
   ]
  },
  {
   "cell_type": "markdown",
   "metadata": {
    "id": "kbWH5spr3TS3"
   },
   "source": [
    "Here, $z$ is a function of the input $x$. Let us now compute the derivative of $z$ with respect to $x$ using backpropagation."
   ]
  },
  {
   "cell_type": "code",
   "execution_count": 8,
   "metadata": {
    "colab": {
     "base_uri": "https://localhost:8080/"
    },
    "executionInfo": {
     "elapsed": 340,
     "status": "ok",
     "timestamp": 1674771433330,
     "user": {
      "displayName": "Karthik Garimella",
      "userId": "04378348427673454344"
     },
     "user_tz": 300
    },
    "id": "MpUgxwJC3Nat",
    "outputId": "f672fef6-bf80-48bf-f66d-ccbbd61f558e"
   },
   "outputs": [
    {
     "name": "stdout",
     "output_type": "stream",
     "text": [
      "tensor([[0.7036],\n",
      "        [0.5930]], requires_grad=True)\n",
      "tensor([[1.1756],\n",
      "        [0.7826]])\n"
     ]
    }
   ],
   "source": [
    "z.backward()\n",
    "print(x)\n",
    "print(x.grad)"
   ]
  },
  {
   "cell_type": "markdown",
   "metadata": {
    "id": "_09Os5Jv3h-9"
   },
   "source": [
    "## Training simple models\n",
    "\n",
    "Let's jump in with our first, simple model. We will train a logistic classifier (equivalent to using a single-layer neural network) on a popular image dataset called *Fashion-MNIST*. Torchvision also has several other image datasets which we can directly load as variables."
   ]
  },
  {
   "cell_type": "code",
   "execution_count": 9,
   "metadata": {
    "id": "q4j1iTpV3htP"
   },
   "outputs": [],
   "source": [
    "trainingdata = torchvision.datasets.FashionMNIST('./FashionMNIST/',train=True,download=True,transform=torchvision.transforms.ToTensor())\n",
    "testdata = torchvision.datasets.FashionMNIST('./FashionMNIST/',train=False,download=True,transform=torchvision.transforms.ToTensor())\n"
   ]
  },
  {
   "cell_type": "markdown",
   "metadata": {
    "id": "VDzG3rgo3052"
   },
   "source": [
    "Let's check that everything has been downloaded."
   ]
  },
  {
   "cell_type": "code",
   "execution_count": 10,
   "metadata": {
    "colab": {
     "base_uri": "https://localhost:8080/"
    },
    "executionInfo": {
     "elapsed": 223,
     "status": "ok",
     "timestamp": 1674771438825,
     "user": {
      "displayName": "Karthik Garimella",
      "userId": "04378348427673454344"
     },
     "user_tz": 300
    },
    "id": "22dRVEKY3z37",
    "outputId": "515afca0-0af9-48df-cf6b-0b49fce46536"
   },
   "outputs": [
    {
     "name": "stdout",
     "output_type": "stream",
     "text": [
      "60000\n",
      "10000\n"
     ]
    }
   ],
   "source": [
    "print(len(trainingdata))\n",
    "print(len(testdata))"
   ]
  },
  {
   "cell_type": "markdown",
   "metadata": {
    "id": "nVE1Aqo_4Bx9"
   },
   "source": [
    "Let's investigate to see what's inside the dataset."
   ]
  },
  {
   "cell_type": "code",
   "execution_count": 11,
   "metadata": {
    "colab": {
     "base_uri": "https://localhost:8080/"
    },
    "executionInfo": {
     "elapsed": 5,
     "status": "ok",
     "timestamp": 1674771441383,
     "user": {
      "displayName": "Karthik Garimella",
      "userId": "04378348427673454344"
     },
     "user_tz": 300
    },
    "id": "bf0Snhu-4A_c",
    "outputId": "d246413d-45fe-415e-d9d8-108539b0c48e"
   },
   "outputs": [
    {
     "name": "stdout",
     "output_type": "stream",
     "text": [
      "torch.Size([1, 28, 28]) 9\n"
     ]
    }
   ],
   "source": [
    "image, label = trainingdata[0]\n",
    "print(image.shape, label)"
   ]
  },
  {
   "cell_type": "markdown",
   "metadata": {
    "id": "pWzhVnwN4Img"
   },
   "source": [
    "We cannot directly plot the image object given that its first dimension has a size of 1. So we will use the `squeeze` function to get rid of the first dimension."
   ]
  },
  {
   "cell_type": "code",
   "execution_count": 12,
   "metadata": {
    "colab": {
     "base_uri": "https://localhost:8080/"
    },
    "executionInfo": {
     "elapsed": 4,
     "status": "ok",
     "timestamp": 1674771443285,
     "user": {
      "displayName": "Karthik Garimella",
      "userId": "04378348427673454344"
     },
     "user_tz": 300
    },
    "id": "STrrNZFf2uYg",
    "outputId": "f4bc5562-d113-4127-d222-ec3424f3d082"
   },
   "outputs": [
    {
     "name": "stdout",
     "output_type": "stream",
     "text": [
      "torch.Size([28, 28])\n"
     ]
    }
   ],
   "source": [
    "print(image.squeeze().shape)"
   ]
  },
  {
   "cell_type": "code",
   "execution_count": 13,
   "metadata": {
    "colab": {
     "base_uri": "https://localhost:8080/",
     "height": 283
    },
    "executionInfo": {
     "elapsed": 522,
     "status": "ok",
     "timestamp": 1674771446630,
     "user": {
      "displayName": "Karthik Garimella",
      "userId": "04378348427673454344"
     },
     "user_tz": 300
    },
    "id": "XSoAec0d4H2j",
    "outputId": "b83e2d38-d229-4b82-e38d-1a658fddeefc"
   },
   "outputs": [
    {
     "data": {
      "text/plain": [
       "<matplotlib.image.AxesImage at 0x137b6c1d0>"
      ]
     },
     "execution_count": 13,
     "metadata": {},
     "output_type": "execute_result"
    },
    {
     "data": {
      "image/png": "[encoded data removed]",
      "text/plain": [
       "<Figure size 640x480 with 1 Axes>"
      ]
     },
     "metadata": {},
     "output_type": "display_data"
    }
   ],
   "source": [
    "import matplotlib.pyplot as plt\n",
    "%matplotlib inline\n",
    "plt.imshow(image.squeeze(), cmap=plt.cm.gray)"
   ]
  },
  {
   "cell_type": "markdown",
   "metadata": {
    "id": "2M2X2FW94Tx5"
   },
   "source": [
    "Looks like a shoe? Fashion-MNIST is a bunch of different black and white images of clothing with a corresponding label identifying the category the clothing belongs to. It looks like label 9 corresponds to shoes.\n",
    "\n",
    "In order to nicely wrap the process of iterating through the dataset, we'll use a dataloader."
   ]
  },
  {
   "cell_type": "code",
   "execution_count": 14,
   "metadata": {
    "id": "zrqhfhQ94h9F"
   },
   "outputs": [],
   "source": [
    "trainDataLoader = torch.utils.data.DataLoader(trainingdata,batch_size=64,shuffle=True)\n",
    "testDataLoader = torch.utils.data.DataLoader(testdata,batch_size=64,shuffle=False)"
   ]
  },
  {
   "cell_type": "markdown",
   "metadata": {
    "id": "IaNv97ra250d"
   },
   "source": [
    "Let's also check the length of the train and test dataloader"
   ]
  },
  {
   "cell_type": "code",
   "execution_count": 15,
   "metadata": {
    "colab": {
     "base_uri": "https://localhost:8080/"
    },
    "executionInfo": {
     "elapsed": 221,
     "status": "ok",
     "timestamp": 1674771450843,
     "user": {
      "displayName": "Karthik Garimella",
      "userId": "04378348427673454344"
     },
     "user_tz": 300
    },
    "id": "t8HqOFhb3Ajp",
    "outputId": "4041f0b7-0b07-442d-aeb2-2db20162ddd2"
   },
   "outputs": [
    {
     "name": "stdout",
     "output_type": "stream",
     "text": [
      "938\n",
      "157\n"
     ]
    }
   ],
   "source": [
    "print(len(trainDataLoader))\n",
    "print(len(testDataLoader))"
   ]
  },
  {
   "cell_type": "markdown",
   "metadata": {
    "id": "9CzCOA5-YK6i"
   },
   "source": [
    "The length here depends upon the batch size defined above. Multiplying the length of our dataloader by the batch size should give us back the number of samples in each set."
   ]
  },
  {
   "cell_type": "code",
   "execution_count": 16,
   "metadata": {
    "colab": {
     "base_uri": "https://localhost:8080/"
    },
    "executionInfo": {
     "elapsed": 3,
     "status": "ok",
     "timestamp": 1674771452469,
     "user": {
      "displayName": "Karthik Garimella",
      "userId": "04378348427673454344"
     },
     "user_tz": 300
    },
    "id": "TEKU8Vcl3EXz",
    "outputId": "cfcdade7-496f-40e6-9fd4-3d46b3521d8a"
   },
   "outputs": [
    {
     "name": "stdout",
     "output_type": "stream",
     "text": [
      "60032\n",
      "10048\n"
     ]
    }
   ],
   "source": [
    "print(len(trainDataLoader) * 64) # batch_size from above\n",
    "print(len(testDataLoader) * 64)"
   ]
  },
  {
   "cell_type": "markdown",
   "metadata": {
    "id": "AQ_9qunz4xUd"
   },
   "source": [
    "Now let's use it to look at a few images."
   ]
  },
  {
   "cell_type": "code",
   "execution_count": 17,
   "metadata": {
    "colab": {
     "base_uri": "https://localhost:8080/",
     "height": 160
    },
    "executionInfo": {
     "elapsed": 856,
     "status": "ok",
     "timestamp": 1674771456467,
     "user": {
      "displayName": "Karthik Garimella",
      "userId": "04378348427673454344"
     },
     "user_tz": 300
    },
    "id": "da5yKkMo4zKz",
    "outputId": "06e35a4b-8354-4afb-e701-34573c88b120"
   },
   "outputs": [
    {
     "data": {
      "image/png": "[encoded data removed]",
      "text/plain": [
       "<Figure size 1000x400 with 5 Axes>"
      ]
     },
     "metadata": {},
     "output_type": "display_data"
    }
   ],
   "source": [
    "images, labels = next(iter(trainDataLoader))\n",
    "\n",
    "plt.figure(figsize=(10,4))\n",
    "for index in np.arange(0,5):\n",
    "  plt.subplot(1,5,index+1)\n",
    "  plt.title(f'Label: {labels[index].item()}')\n",
    "  plt.imshow(images[index].squeeze(),cmap=plt.cm.gray)"
   ]
  },
  {
   "cell_type": "markdown",
   "metadata": {
    "id": "VGyspXXr5FUk"
   },
   "source": [
    "Now let's set up our model."
   ]
  },
  {
   "cell_type": "code",
   "execution_count": 18,
   "metadata": {
    "id": "QbleoEIy5EfA"
   },
   "outputs": [],
   "source": [
    "gpu = \"cuda\" if torch.cuda.is_available() else \"cpu\"\n",
    "\n",
    "class LinearReg(torch.nn.Module):\n",
    "  def __init__(self):\n",
    "    super(LinearReg, self).__init__()\n",
    "    self.linear = torch.nn.Linear(28*28, 10)\n",
    "  \n",
    "  def forward(self, x):\n",
    "    x = x.view(-1, 28*28) # change so 784 vector instead of 28x28 matrix\n",
    "    return self.linear(x)\n",
    "\n",
    "model = LinearReg().to(gpu)\n",
    "loss = torch.nn.CrossEntropyLoss() # Step 2: loss\n",
    "optimizer = torch.optim.SGD(model.parameters(), lr=0.01) # Step 3: training method"
   ]
  },
  {
   "cell_type": "markdown",
   "metadata": {
    "id": "r6s7Ecae5tIU"
   },
   "source": [
    "Now let's train our model!"
   ]
  },
  {
   "cell_type": "code",
   "execution_count": 19,
   "metadata": {
    "colab": {
     "base_uri": "https://localhost:8080/"
    },
    "executionInfo": {
     "elapsed": 134081,
     "status": "ok",
     "timestamp": 1674771662708,
     "user": {
      "displayName": "Karthik Garimella",
      "userId": "04378348427673454344"
     },
     "user_tz": 300
    },
    "id": "8vGgZop05u2B",
    "outputId": "999a4ca9-6550-497c-ae02-fc5f9004dba8"
   },
   "outputs": [
    {
     "name": "stdout",
     "output_type": "stream",
     "text": [
      "Epoch 0, Train loss 0.9601187540142775, Test loss 0.7412131815958934\n",
      "Epoch 1, Train loss 0.6675267960153409, Test loss 0.6470010595716489\n",
      "Epoch 2, Train loss 0.6032319129275869, Test loss 0.6036657882723838\n",
      "Epoch 3, Train loss 0.5681219312554991, Test loss 0.5769736187852872\n",
      "Epoch 4, Train loss 0.5453312239095346, Test loss 0.5608135051788039\n",
      "Epoch 5, Train loss 0.5284961068998776, Test loss 0.5464734791950056\n",
      "Epoch 6, Train loss 0.5161677314274347, Test loss 0.5377659698960128\n",
      "Epoch 7, Train loss 0.5058915300378158, Test loss 0.5276417339303691\n",
      "Epoch 8, Train loss 0.49758261766260875, Test loss 0.5204305840525657\n",
      "Epoch 9, Train loss 0.49031835348049463, Test loss 0.5148852697223615\n",
      "Epoch 10, Train loss 0.48436400486525694, Test loss 0.509982881462498\n",
      "Epoch 11, Train loss 0.4789103496271664, Test loss 0.5052185162996791\n",
      "Epoch 12, Train loss 0.4740513692151255, Test loss 0.5028605480102977\n",
      "Epoch 13, Train loss 0.46980230416506846, Test loss 0.49784401647604193\n",
      "Epoch 14, Train loss 0.4662030571972383, Test loss 0.4947179732428994\n",
      "Epoch 15, Train loss 0.4629362891795539, Test loss 0.49346096177769316\n",
      "Epoch 16, Train loss 0.4596298555893176, Test loss 0.4894542811782497\n",
      "Epoch 17, Train loss 0.45658500818237824, Test loss 0.487122900546736\n",
      "Epoch 18, Train loss 0.45390113378003205, Test loss 0.48499564380402777\n",
      "Epoch 19, Train loss 0.4514781088748975, Test loss 0.4848912764506735\n"
     ]
    }
   ],
   "source": [
    "train_loss_history = []\n",
    "test_loss_history = []\n",
    "\n",
    "for epoch in range(20):\n",
    "  train_loss = 0.0\n",
    "  test_loss = 0.0\n",
    "  \n",
    "  model.train()\n",
    "  for i, data in enumerate(trainDataLoader):\n",
    "    images, labels = data\n",
    "    images = images.to(gpu)\n",
    "    labels = labels.to(gpu)\n",
    "    optimizer.zero_grad() # zero out any gradient values from the previous iteration\n",
    "    predicted_output = model(images) # forward propagation  \n",
    "    fit = loss(predicted_output, labels)  # calculate our measure of goodness\n",
    "    fit.backward() # backpropagation\n",
    "    optimizer.step() # update the weights of our trainable parameters\n",
    "    train_loss += fit.item()\n",
    "\n",
    "  model.eval()\n",
    "  for i, data in enumerate(testDataLoader):\n",
    "    with torch.no_grad():\n",
    "      images, labels = data\n",
    "      images = images.to(gpu)\n",
    "      labels = labels.to(gpu)\n",
    "      predicted_output = model(images)\n",
    "      fit = loss(predicted_output, labels)\n",
    "      test_loss += fit.item()\n",
    "  train_loss = train_loss / len(trainDataLoader)\n",
    "  test_loss = test_loss / len(testDataLoader)\n",
    "  train_loss_history += [train_loss]\n",
    "  test_loss_history += [test_loss]\n",
    "  print(f'Epoch {epoch}, Train loss {train_loss}, Test loss {test_loss}')"
   ]
  },
  {
   "cell_type": "markdown",
   "metadata": {
    "id": "fh-rlPJ46-yj"
   },
   "source": [
    "Let's plot our loss by training epoch to see how we did."
   ]
  },
  {
   "cell_type": "code",
   "execution_count": 20,
   "metadata": {
    "colab": {
     "base_uri": "https://localhost:8080/",
     "height": 279
    },
    "executionInfo": {
     "elapsed": 255,
     "status": "ok",
     "timestamp": 1674771683174,
     "user": {
      "displayName": "Karthik Garimella",
      "userId": "04378348427673454344"
     },
     "user_tz": 300
    },
    "id": "vP9KBzxz7Bif",
    "outputId": "8c0a446d-7e70-4c7a-bf24-fffba0d12eb3"
   },
   "outputs": [
    {
     "data": {
      "image/png": "[encoded data removed]",
      "text/plain": [
       "<Figure size 640x480 with 1 Axes>"
      ]
     },
     "metadata": {},
     "output_type": "display_data"
    }
   ],
   "source": [
    "plt.plot(range(20),train_loss_history,'-',linewidth=3,label='Train error')\n",
    "plt.plot(range(20),test_loss_history,'-',linewidth=3,label='Test error')\n",
    "plt.xlabel('epoch')\n",
    "plt.ylabel('loss')\n",
    "plt.grid(True)\n",
    "plt.legend()\n",
    "plt.show()"
   ]
  },
  {
   "cell_type": "markdown",
   "metadata": {
    "id": "IyPSu5tr7Enh"
   },
   "source": [
    "Why is test loss larger than training loss?\n",
    "\n",
    "We definitely see some improvement. Let's look at the images, the predictions our model makes and the true label."
   ]
  },
  {
   "cell_type": "markdown",
   "metadata": {
    "id": "j4ZJAue77Oa4"
   },
   "source": [
    "Now for the labels and predicted labels."
   ]
  },
  {
   "cell_type": "code",
   "execution_count": 21,
   "metadata": {
    "colab": {
     "base_uri": "https://localhost:8080/"
    },
    "executionInfo": {
     "elapsed": 204,
     "status": "ok",
     "timestamp": 1674771912103,
     "user": {
      "displayName": "Karthik Garimella",
      "userId": "04378348427673454344"
     },
     "user_tz": 300
    },
    "id": "PWAHUPQf7Nuj",
    "outputId": "8ea3befe-7907-404b-96f5-a5fd25652857"
   },
   "outputs": [
    {
     "name": "stdout",
     "output_type": "stream",
     "text": [
      "Predicted: tensor([3, 1, 7, 5, 8, 2, 5, 6, 8, 9, 1, 9, 1, 8, 1, 5])\n",
      "True labels: tensor([3, 2, 7, 5, 8, 4, 5, 6, 8, 9, 1, 9, 1, 8, 1, 5])\n",
      "0.317776620388031\n"
     ]
    }
   ],
   "source": [
    "predicted_outputs = model(images)\n",
    "predicted_classes = torch.max(predicted_outputs, 1)[1]\n",
    "print('Predicted:', predicted_classes)\n",
    "fit = loss(predicted_output, labels)\n",
    "print('True labels:', labels)\n",
    "print(fit.item())"
   ]
  },
  {
   "cell_type": "code",
   "execution_count": 22,
   "metadata": {
    "colab": {
     "base_uri": "https://localhost:8080/",
     "height": 299
    },
    "executionInfo": {
     "elapsed": 470,
     "status": "ok",
     "timestamp": 1674771936195,
     "user": {
      "displayName": "Karthik Garimella",
      "userId": "04378348427673454344"
     },
     "user_tz": 300
    },
    "id": "fODInaCcLBIF",
    "outputId": "389cf078-cd37-412e-b791-24a992b8f9e7"
   },
   "outputs": [
    {
     "data": {
      "text/plain": [
       "Text(0.5, 1.0, 'Pred: 1, True: 2')"
      ]
     },
     "execution_count": 22,
     "metadata": {},
     "output_type": "execute_result"
    },
    {
     "data": {
      "image/png": "[encoded data removed]",
      "text/plain": [
       "<Figure size 640x480 with 1 Axes>"
      ]
     },
     "metadata": {},
     "output_type": "display_data"
    }
   ],
   "source": [
    "plt.imshow(images[1].squeeze().cpu(), cmap=plt.cm.gray)\n",
    "plt.title(f'Pred: {predicted_classes[1].item()}, True: {labels[1].item()}')"
   ]
  },
  {
   "cell_type": "markdown",
   "metadata": {},
   "source": [
    "## Training a more complex model"
   ]
  },
  {
   "cell_type": "markdown",
   "metadata": {},
   "source": [
    "Start with importing the necessary libraries, dataset, split the data into train and test sets, create a dataloade"
   ]
  },
  {
   "cell_type": "code",
   "execution_count": 36,
   "metadata": {},
   "outputs": [],
   "source": [
    "import torch\n",
    "import torch.nn as nn\n",
    "import torch.optim as optim\n",
    "import torchvision\n",
    "import torchvision.transforms as transforms\n",
    "import matplotlib.pyplot as plt\n",
    "import numpy as np\n",
    "import random\n",
    "# Load FashionMNIST datasets\n",
    "train_data = torchvision.datasets.FashionMNIST(\n",
    "    './FashionMNIST/', train=True, download=True, transform=transforms.ToTensor()\n",
    ")\n",
    "test_data = torchvision.datasets.FashionMNIST(\n",
    "    './FashionMNIST/', train=False, download=True, transform=transforms.ToTensor()\n",
    ")\n",
    "\n",
    "# Create DataLoaders\n",
    "batch_size = 64\n",
    "gpu = \"cuda\" if torch.cuda.is_available() else \"cpu\"\n",
    "train_loader = torch.utils.data.DataLoader(train_data, batch_size=batch_size, shuffle=True)\n",
    "test_loader  = torch.utils.data.DataLoader(test_data, batch_size=batch_size, shuffle=False)\n"
   ]
  },
  {
   "cell_type": "markdown",
   "metadata": {},
   "source": [
    "### Define the model: \n",
    "\n",
    "- We will use a simple deep neural network with 3 hidden layers with 784 -> 256 -> 128 -> 64 -> 10 neurons.\n",
    "- We will use ReLU activation function for each layer.\n",
    "- We will use SGD optimizer with a learning rate of 0.01\n",
    "- We will use CrossEntropyLoss as our loss function\n"
   ]
  },
  {
   "cell_type": "code",
   "execution_count": 37,
   "metadata": {},
   "outputs": [],
   "source": [
    "class DenseNet(torch.nn.Module):\n",
    "    def __init__(self):\n",
    "        super(DenseNet, self).__init__()\n",
    "        self.flatten = torch.nn.Flatten()  # Flatten 28x28 images into 784-dim vectors\n",
    "        self.fc1 = torch.nn.Linear(28*28, 256)\n",
    "        self.fc2 = torch.nn.Linear(256, 128)\n",
    "        self.fc3 = torch.nn.Linear(128, 64)\n",
    "        self.fc4 = torch.nn.Linear(64, 10)  # 10 output classes\n",
    "        self.relu = torch.nn.ReLU()\n",
    "\n",
    "    def forward(self, x):\n",
    "        x = self.flatten(x)\n",
    "        x = self.relu(self.fc1(x))\n",
    "        x = self.relu(self.fc2(x))\n",
    "        x = self.relu(self.fc3(x))\n",
    "        x = self.fc4(x)\n",
    "        return x\n",
    "\n",
    "model = DenseNet().to(gpu)\n",
    "\n",
    "# Loss function and optimizer\n",
    "criterion = torch.nn.CrossEntropyLoss()  # Loss function\n",
    "optimizer = torch.optim.SGD(model.parameters(), lr=0.01) # SGD optimizer\n"
   ]
  },
  {
   "cell_type": "markdown",
   "metadata": {},
   "source": [
    "### Training the model:\n",
    "\n",
    "We will train the model for 20 epochs and evaluate the model on the test set. All the parameters are the same as the previous model, such as batch size, learning rate, optimizer, loss function, etc. The only difference is the model architecture.\n",
    "\n",
    "- The model is trained for 20 epochs and the loss is calculated for each epoch.\n",
    "- The model is evaluated on the test set and the accuracy is calculated.\n"
   ]
  },
  {
   "cell_type": "code",
   "execution_count": null,
   "metadata": {},
   "outputs": [
    {
     "name": "stdout",
     "output_type": "stream",
     "text": [
      "Epoch 1/20: Train Loss = 1.8749, Test Loss = 1.0741, Test Accuracy = 58.30%\n",
      "Epoch 2/20: Train Loss = 0.8227, Test Loss = 0.7516, Test Accuracy = 72.70%\n",
      "Epoch 3/20: Train Loss = 0.6611, Test Loss = 0.6472, Test Accuracy = 77.30%\n",
      "Epoch 4/20: Train Loss = 0.5869, Test Loss = 0.5924, Test Accuracy = 79.30%\n",
      "Epoch 5/20: Train Loss = 0.5434, Test Loss = 0.5716, Test Accuracy = 79.76%\n",
      "Epoch 6/20: Train Loss = 0.5154, Test Loss = 0.5378, Test Accuracy = 80.87%\n",
      "Epoch 7/20: Train Loss = 0.4944, Test Loss = 0.5345, Test Accuracy = 81.41%\n",
      "Epoch 8/20: Train Loss = 0.4762, Test Loss = 0.5048, Test Accuracy = 81.83%\n",
      "Epoch 9/20: Train Loss = 0.4585, Test Loss = 0.4834, Test Accuracy = 82.62%\n",
      "Epoch 10/20: Train Loss = 0.4425, Test Loss = 0.4649, Test Accuracy = 83.65%\n",
      "Epoch 11/20: Train Loss = 0.4304, Test Loss = 0.5478, Test Accuracy = 79.21%\n",
      "Epoch 12/20: Train Loss = 0.4152, Test Loss = 0.5898, Test Accuracy = 77.75%\n",
      "Epoch 13/20: Train Loss = 0.4047, Test Loss = 0.4532, Test Accuracy = 83.86%\n",
      "Epoch 14/20: Train Loss = 0.3951, Test Loss = 0.4291, Test Accuracy = 84.60%\n",
      "Epoch 15/20: Train Loss = 0.3859, Test Loss = 0.4163, Test Accuracy = 85.28%\n",
      "Epoch 16/20: Train Loss = 0.3766, Test Loss = 0.4593, Test Accuracy = 83.96%\n",
      "Epoch 17/20: Train Loss = 0.3696, Test Loss = 0.4012, Test Accuracy = 85.76%\n",
      "Epoch 18/20: Train Loss = 0.3617, Test Loss = 0.3997, Test Accuracy = 85.92%\n",
      "Epoch 19/20: Train Loss = 0.3544, Test Loss = 0.3971, Test Accuracy = 85.73%\n",
      "Epoch 20/20: Train Loss = 0.3468, Test Loss = 0.3954, Test Accuracy = 85.82%\n"
     ]
    }
   ],
   "source": [
    "# Training loop\n",
    "num_epochs = 20\n",
    "train_loss_history = []\n",
    "test_loss_history = []\n",
    "test_accuracy_history = []\n",
    "\n",
    "for epoch in range(num_epochs):\n",
    "    model.train()\n",
    "    running_train_loss = 0.0\n",
    "    for images, labels in train_loader:\n",
    "        images, labels = images.to(gpu), labels.to(gpu)\n",
    "        \n",
    "        optimizer.zero_grad()\n",
    "        outputs = model(images)\n",
    "        loss = criterion(outputs, labels)\n",
    "        loss.backward()\n",
    "        optimizer.step()\n",
    "        running_train_loss += loss.item() * images.size(0)\n",
    "    \n",
    "    train_loss = running_train_loss / len(train_loader.dataset)\n",
    "    train_loss_history.append(train_loss)\n",
    "    \n",
    "    # Evaluate on test set\n",
    "    model.eval()\n",
    "    running_test_loss = 0.0\n",
    "    correct = 0\n",
    "    with torch.no_grad():\n",
    "        for images, labels in test_loader:\n",
    "            images, labels = images.to(gpu), labels.to(gpu)\n",
    "            outputs = model(images)\n",
    "            loss = criterion(outputs, labels)\n",
    "            running_test_loss += loss.item() * images.size(0)\n",
    "            _, predicted = torch.max(outputs, 1)\n",
    "            correct += (predicted == labels).sum().item()\n",
    "    test_loss = running_test_loss / len(test_loader.dataset)\n",
    "    test_loss_history.append(test_loss)\n",
    "    accuracy = 100 * correct / len(test_loader.dataset)\n",
    "    test_accuracy_history.append(accuracy)\n",
    "    \n",
    "    print(f\"Epoch {epoch} Train Loss = {train_loss:.4f}, Test Loss = {test_loss:.4f}, Test Accuracy = {accuracy:.2f}%\")\n",
    "\n"
   ]
  },
  {
   "cell_type": "code",
   "execution_count": 41,
   "metadata": {},
   "outputs": [
    {
     "data": {
      "image/png": "[encoded data removed]",
      "text/plain": [
       "<Figure size 1000x500 with 1 Axes>"
      ]
     },
     "metadata": {},
     "output_type": "display_data"
    },
    {
     "name": "stdout",
     "output_type": "stream",
     "text": [
      "Final Test Accuracy: 85.82%\n"
     ]
    }
   ],
   "source": [
    "# Plot loss curves\n",
    "plt.figure(figsize=(10,5))\n",
    "plt.plot(range(1, num_epochs+1), train_loss_history, label='Train Loss', linewidth=2)\n",
    "plt.plot(range(1, num_epochs+1), test_loss_history, label='Test Loss', linewidth=2)\n",
    "plt.xlabel(\"Epoch\")\n",
    "plt.ylabel(\"Loss\")\n",
    "plt.title(\"Train and Test Loss Curves\")\n",
    "plt.legend()\n",
    "plt.grid(True)\n",
    "plt.show()\n",
    "\n",
    "# Report final test accuracy\n",
    "print(f\"Final Test Accuracy: {test_accuracy_history[-1]:.2f}%\")"
   ]
  },
  {
   "cell_type": "markdown",
   "metadata": {},
   "source": [
    "### Model Evaluation:\n",
    "\n",
    "We see that the model is able to achieve an accuracy of 85% on the test set. This is a significant improvement over the previous model. The model is able to learn the features of the images and make accurate predictions.\n",
    "\n",
    "We can further test the model by passing a random image from the test set and checking the prediction made by the model and the true label of the image."
   ]
  },
  {
   "cell_type": "code",
   "execution_count": 42,
   "metadata": {},
   "outputs": [
    {
     "data": {
      "image/png": "[encoded data removed]",
      "text/plain": [
       "<Figure size 1000x400 with 2 Axes>"
      ]
     },
     "metadata": {},
     "output_type": "display_data"
    },
    {
     "data": {
      "image/png": "[encoded data removed]",
      "text/plain": [
       "<Figure size 1000x400 with 2 Axes>"
      ]
     },
     "metadata": {},
     "output_type": "display_data"
    },
    {
     "data": {
      "image/png": "[encoded data removed]",
      "text/plain": [
       "<Figure size 1000x400 with 2 Axes>"
      ]
     },
     "metadata": {},
     "output_type": "display_data"
    }
   ],
   "source": [
    "import random\n",
    "# Visualize predictions for 3 random test images\n",
    "model.eval()\n",
    "for _ in range(3):\n",
    "    idx = random.randint(0, len(test_data) - 1)\n",
    "    image, true_label = test_data[idx]\n",
    "    \n",
    "    # Prepare image for the model: add batch dimension and send to device\n",
    "    input_img = image.unsqueeze(0).to(gpu)\n",
    "    output = model(input_img)\n",
    "    \n",
    "    # Convert logits to probabilities\n",
    "    probabilities = torch.softmax(output, dim=1).cpu().detach().numpy()[0]\n",
    "    \n",
    "    # Plot the image and a bar chart of predicted class probabilities\n",
    "    plt.figure(figsize=(10,4))\n",
    "    \n",
    "    # Image subplot\n",
    "    plt.subplot(1,2,1)\n",
    "    plt.imshow(image.squeeze(), cmap='gray')\n",
    "    plt.title(f\"True Label: {true_label}\")\n",
    "    plt.axis(\"off\")\n",
    "    \n",
    "    # Bar chart subplot\n",
    "    plt.subplot(1,2,2)\n",
    "    plt.bar(np.arange(10), probabilities, color='blue')\n",
    "    plt.xlabel(\"Class\")\n",
    "    plt.ylabel(\"Probability\")\n",
    "    plt.title(\"Predicted Class Probabilities\")\n",
    "    plt.xticks(np.arange(10))\n",
    "    \n",
    "    plt.show()"
   ]
  },
  {
   "cell_type": "markdown",
   "metadata": {},
   "source": [
    "### Conclusion\n",
    "\n",
    "We can see that changing the model architecture from a simple linear model to a deep neural network with multiple hidden layers has significantly improved the performance of the model. The model is able to learn the features of the images and make accurate predictions. \n",
    "\n",
    "Some images, such as the last one we tested, are still not predicted with 100% confidence given the complexity of the shapes and patterns in the image. However, the model is able to make accurate predictions on most of the images in the test set."
   ]
  }
 ],
 "metadata": {
  "accelerator": "GPU",
  "colab": {
   "provenance": []
  },
  "gpuClass": "standard",
  "kernelspec": {
   "display_name": "deepl",
   "language": "python",
   "name": "python3"
  },
  "language_info": {
   "codemirror_mode": {
    "name": "ipython",
    "version": 3
   },
   "file_extension": ".py",
   "mimetype": "text/x-python",
   "name": "python",
   "nbconvert_exporter": "python",
   "pygments_lexer": "ipython3",
   "version": "3.12.0"
  }
 },
 "nbformat": 4,
 "nbformat_minor": 0
}
